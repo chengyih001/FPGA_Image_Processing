{
 "cells": [
  {
   "cell_type": "code",
   "execution_count": null,
   "metadata": {},
   "outputs": [],
   "source": [
    "import numpy as np\n",
    "from PIL import Image\n",
    "import matplotlib.pyplot as plt\n",
    "from skimage.util import random_noise\n",
    "\n",
    "import os\n",
    "print(\"Current Working Directory \" , os.getcwd())"
   ]
  },
  {
   "cell_type": "code",
   "execution_count": null,
   "metadata": {},
   "outputs": [],
   "source": [
    "color_img = Image.open(str(os.getcwd())+'/dataset/lena_color.jpg', 'r')\n",
    "print(color_img.format)\n",
    "print(color_img.size)\n",
    "print(color_img.mode)\n",
    "\n",
    "color_image_preview = Image.fromarray(np.asarray(color_img), mode='RGB')\n",
    "color_image_preview"
   ]
  },
  {
   "cell_type": "code",
   "execution_count": null,
   "metadata": {
    "scrolled": false
   },
   "outputs": [],
   "source": [
    "# Add salt-and-pepper noise to the image.\n",
    "color_noise_img = random_noise(np.asarray(color_img), mode='s&p', amount=0.3)\n",
    " \n",
    "# The above function returns a floating-point image\n",
    "# on the range [0, 1], thus we changed it to 'uint8'\n",
    "# and from [0,255]\n",
    "color_noise_img = np.array(255*color_noise_img, dtype = 'uint8')\n",
    " \n",
    "# Display the noise image\n",
    "color_noise_image_preview = Image.fromarray(np.asarray(color_noise_img), mode='RGB')\n",
    "color_noise_image_preview"
   ]
  },
  {
   "cell_type": "code",
   "execution_count": null,
   "metadata": {},
   "outputs": [],
   "source": [
    "r_noise_img = color_noise_img[:, :, 0]\n",
    "g_noise_img = color_noise_img[:, :, 1]\n",
    "b_noise_img = color_noise_img[:, :, 2]"
   ]
  },
  {
   "cell_type": "code",
   "execution_count": null,
   "metadata": {},
   "outputs": [],
   "source": [
    "#noise_img = noise_img.resize((100, 100))"
   ]
  },
  {
   "cell_type": "code",
   "execution_count": null,
   "metadata": {},
   "outputs": [],
   "source": [
    "np.savetxt(str(os.getcwd())+'/dataset/dataset_color_denoising/lena_r_noise_array.txt', r_noise_img, newline='\\n', fmt='%d')\n",
    "np.savetxt(str(os.getcwd())+'/dataset/dataset_color_denoising/lena_g_noise_array.txt', g_noise_img, newline='\\n', fmt='%d')\n",
    "np.savetxt(str(os.getcwd())+'/dataset/dataset_color_denoising/lena_b_noise_array.txt', b_noise_img, newline='\\n', fmt='%d')"
   ]
  },
  {
   "cell_type": "code",
   "execution_count": null,
   "metadata": {},
   "outputs": [],
   "source": []
  },
  {
   "cell_type": "code",
   "execution_count": null,
   "metadata": {
    "scrolled": false
   },
   "outputs": [],
   "source": [
    "r_channel = np.loadtxt(str(os.getcwd())+'/dataset/dataset_color_denoising/lena_r_denoise_array.txt', dtype=str)\n",
    "print(r_channel.shape)"
   ]
  },
  {
   "cell_type": "code",
   "execution_count": null,
   "metadata": {},
   "outputs": [],
   "source": [
    "g_channel = np.loadtxt(str(os.getcwd())+'/dataset/dataset_color_denoising/lena_g_denoise_array.txt', dtype=str)\n",
    "print(g_channel.shape)"
   ]
  },
  {
   "cell_type": "code",
   "execution_count": null,
   "metadata": {},
   "outputs": [],
   "source": [
    "b_channel = np.loadtxt(str(os.getcwd())+'/dataset/dataset_color_denoising/lena_b_denoise_array.txt', dtype=str)\n",
    "print(b_channel.shape)"
   ]
  },
  {
   "cell_type": "code",
   "execution_count": null,
   "metadata": {},
   "outputs": [],
   "source": [
    "#array_from_file = np.reshape(array_from_file, (98, 98))\n",
    "r_channel = np.reshape(r_channel, (510, 510))\n",
    "g_channel = np.reshape(g_channel, (510, 510))\n",
    "b_channel = np.reshape(b_channel, (510, 510))\n",
    "color_denoise_array = np.dstack((r_channel, g_channel, b_channel))\n",
    "print(color_denoise_array.shape)"
   ]
  },
  {
   "cell_type": "code",
   "execution_count": null,
   "metadata": {},
   "outputs": [],
   "source": [
    "color_denoise_image = Image.fromarray(color_denoise_array.astype('uint8'), mode='RGB')\n",
    "color_denoise_image"
   ]
  },
  {
   "cell_type": "code",
   "execution_count": null,
   "metadata": {},
   "outputs": [],
   "source": []
  }
 ],
 "metadata": {
  "kernelspec": {
   "display_name": "Python 3",
   "language": "python",
   "name": "python3"
  },
  "language_info": {
   "codemirror_mode": {
    "name": "ipython",
    "version": 3
   },
   "file_extension": ".py",
   "mimetype": "text/x-python",
   "name": "python",
   "nbconvert_exporter": "python",
   "pygments_lexer": "ipython3",
   "version": "3.7.0"
  }
 },
 "nbformat": 4,
 "nbformat_minor": 4
}