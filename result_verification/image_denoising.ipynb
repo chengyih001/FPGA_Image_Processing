{
 "cells": [
  {
   "cell_type": "code",
   "execution_count": null,
   "metadata": {},
   "outputs": [],
   "source": [
    "import numpy as np\n",
    "from PIL import Image\n",
    "import matplotlib.pyplot as plt\n",
    "from skimage.util import random_noise\n",
    "\n",
    "import os\n",
    "print(\"Current Working Directory \" , os.getcwd())"
   ]
  },
  {
   "cell_type": "code",
   "execution_count": null,
   "metadata": {},
   "outputs": [],
   "source": [
    "color_img = Image.open(str(os.getcwd())+'/dataset/lena_color.jpg', 'r')\n",
    "print(color_img.format)\n",
    "print(color_img.size)\n",
    "print(color_img.mode)\n",
    "\n",
    "color_image = Image.fromarray(np.asarray(color_img), mode='RGB')\n",
    "color_image"
   ]
  },
  {
   "cell_type": "code",
   "execution_count": null,
   "metadata": {},
   "outputs": [],
   "source": [
    "#gray_img = gray_img.resize((100, 100))\n",
    "gray_img = color_img.convert('L')\n",
    "print(gray_img.size)\n",
    "\n",
    "gray_image = Image.fromarray(np.asarray(gray_img), mode='L')\n",
    "gray_image"
   ]
  },
  {
   "cell_type": "code",
   "execution_count": null,
   "metadata": {
    "scrolled": false
   },
   "outputs": [],
   "source": [
    "# Add salt-and-pepper noise to the image.\n",
    "noise_img = random_noise(np.asarray(gray_img), mode='s&p', amount=0.1)\n",
    " \n",
    "# The above function returns a floating-point image\n",
    "# on the range [0, 1], thus we changed it to 'uint8'\n",
    "# and from [0,255]\n",
    "noise_img = np.array(255*noise_img, dtype = 'uint8')\n",
    " \n",
    "# Display the noise image\n",
    "gray_noise_image = Image.fromarray(np.asarray(noise_img), mode='L')\n",
    "gray_noise_image"
   ]
  },
  {
   "cell_type": "code",
   "execution_count": null,
   "metadata": {},
   "outputs": [],
   "source": [
    "#noise_img = noise_img.resize((100, 100))"
   ]
  },
  {
   "cell_type": "code",
   "execution_count": null,
   "metadata": {},
   "outputs": [],
   "source": [
    "np.savetxt(str(os.getcwd())+'/dataset/dataset_gray_denoising/lena_gray_noise_array.txt', noise_img, newline='\\n', fmt='%d')"
   ]
  },
  {
   "cell_type": "code",
   "execution_count": null,
   "metadata": {},
   "outputs": [],
   "source": []
  },
  {
   "cell_type": "code",
   "execution_count": null,
   "metadata": {
    "scrolled": false
   },
   "outputs": [],
   "source": [
    "array_from_file = np.loadtxt(str(os.getcwd())+'/dataset/dataset_gray_denoising/lena_gray_denoise_array.txt', dtype=str)\n",
    "print(array_from_file.shape)"
   ]
  },
  {
   "cell_type": "code",
   "execution_count": null,
   "metadata": {
    "scrolled": true
   },
   "outputs": [],
   "source": [
    "#array_from_file = np.reshape(array_from_file, (98, 98))\n",
    "array_from_file = np.reshape(array_from_file, (510, 510))\n",
    "print(array_from_file.shape)"
   ]
  },
  {
   "cell_type": "code",
   "execution_count": null,
   "metadata": {
    "scrolled": false
   },
   "outputs": [],
   "source": [
    "image = Image.fromarray(array_from_file.astype('uint8'), mode='L')\n",
    "image"
   ]
  },
  {
   "cell_type": "code",
   "execution_count": null,
   "metadata": {},
   "outputs": [],
   "source": []
  },
  {
   "cell_type": "code",
   "execution_count": null,
   "metadata": {},
   "outputs": [],
   "source": []
  }
 ],
 "metadata": {
  "kernelspec": {
   "display_name": "Python 3",
   "language": "python",
   "name": "python3"
  },
  "language_info": {
   "codemirror_mode": {
    "name": "ipython",
    "version": 3
   },
   "file_extension": ".py",
   "mimetype": "text/x-python",
   "name": "python",
   "nbconvert_exporter": "python",
   "pygments_lexer": "ipython3",
   "version": "3.7.0"
  }
 },
 "nbformat": 4,
 "nbformat_minor": 4
}