{
 "cells": [
  {
   "cell_type": "code",
   "execution_count": null,
   "metadata": {},
   "outputs": [],
   "source": [
    "import numpy as np\n",
    "from PIL import Image\n",
    "import matplotlib.pyplot as plt\n",
    "\n",
    "import os\n",
    "print(\"Current Working Directory \" , os.getcwd())"
   ]
  },
  {
   "cell_type": "code",
   "execution_count": null,
   "metadata": {},
   "outputs": [],
   "source": [
    "color_img = Image.open(str(os.getcwd())+'/dataset/lena_color.jpg', 'r')\n",
    "print(color_img.format)\n",
    "print(color_img.size)\n",
    "print(color_img.mode)\n",
    "\n",
    "color_image = Image.fromarray(np.asarray(color_img), mode='RGB')\n",
    "color_image"
   ]
  },
  {
   "cell_type": "code",
   "execution_count": null,
   "metadata": {
    "scrolled": false
   },
   "outputs": [],
   "source": [
    "gray_img = color_img.convert('L')\n",
    "print(gray_img.size)\n",
    "\n",
    "gray_image = Image.fromarray(np.asarray(gray_img), mode='L')\n",
    "gray_image"
   ]
  },
  {
   "cell_type": "code",
   "execution_count": null,
   "metadata": {},
   "outputs": [],
   "source": [
    "#gray_img = gray_img.resize((100, 100))\n",
    "gray_img_array = np.asarray(gray_img)\n",
    "gray_img_array.shape"
   ]
  },
  {
   "cell_type": "code",
   "execution_count": null,
   "metadata": {},
   "outputs": [],
   "source": [
    "np.savetxt(str(os.getcwd())+'/dataset/dataset_gray_edge_detection/lena_gray_array.txt', gray_img_array, newline='\\n', fmt='%d')"
   ]
  },
  {
   "cell_type": "code",
   "execution_count": null,
   "metadata": {},
   "outputs": [],
   "source": []
  },
  {
   "cell_type": "code",
   "execution_count": null,
   "metadata": {},
   "outputs": [],
   "source": [
    "x_image = np.loadtxt(str(os.getcwd())+'/dataset/dataset_gray_edge_detection/lena_edge_x_array.txt', dtype=str)\n",
    "print(x_image.shape)"
   ]
  },
  {
   "cell_type": "code",
   "execution_count": null,
   "metadata": {},
   "outputs": [],
   "source": [
    "#array_from_file = np.reshape(array_from_file, (98, 98))\n",
    "x_image = np.reshape(x_image, (510, 510))\n",
    "print(x_image.shape)"
   ]
  },
  {
   "cell_type": "code",
   "execution_count": null,
   "metadata": {},
   "outputs": [],
   "source": [
    "x_image_preview = Image.fromarray(x_image.astype('uint8'), mode='L')\n",
    "x_image_preview"
   ]
  },
  {
   "cell_type": "code",
   "execution_count": null,
   "metadata": {},
   "outputs": [],
   "source": [
    "y_image = np.loadtxt(str(os.getcwd())+'/dataset/dataset_gray_edge_detection/lena_edge_x_array.txt', dtype=str)\n",
    "print(y_image.shape)"
   ]
  },
  {
   "cell_type": "code",
   "execution_count": null,
   "metadata": {},
   "outputs": [],
   "source": [
    "#array_from_file = np.reshape(array_from_file, (98, 98))\n",
    "y_image = np.reshape(y_image, (510, 510))\n",
    "print(y_image.shape)"
   ]
  },
  {
   "cell_type": "code",
   "execution_count": null,
   "metadata": {},
   "outputs": [],
   "source": [
    "y_image_preview = Image.fromarray(y_image.astype('uint8'), mode='L')\n",
    "y_image_preview"
   ]
  },
  {
   "cell_type": "code",
   "execution_count": null,
   "metadata": {},
   "outputs": [],
   "source": [
    "xy_image = np.loadtxt(str(os.getcwd())+'/dataset/dataset_gray_edge_detection/lena_edge_array.txt', dtype=str)\n",
    "print(xy_image.shape)"
   ]
  },
  {
   "cell_type": "code",
   "execution_count": null,
   "metadata": {},
   "outputs": [],
   "source": [
    "#array_from_file = np.reshape(array_from_file, (98, 98))\n",
    "xy_image = np.reshape(xy_image, (510, 510))\n",
    "print(xy_image.shape)"
   ]
  },
  {
   "cell_type": "code",
   "execution_count": null,
   "metadata": {},
   "outputs": [],
   "source": [
    "image = Image.fromarray(xy_image.astype('uint8'), mode='L')\n",
    "image"
   ]
  },
  {
   "cell_type": "code",
   "execution_count": null,
   "metadata": {},
   "outputs": [],
   "source": []
  },
  {
   "cell_type": "code",
   "execution_count": null,
   "metadata": {},
   "outputs": [],
   "source": []
  },
  {
   "cell_type": "code",
   "execution_count": null,
   "metadata": {},
   "outputs": [],
   "source": []
  }
 ],
 "metadata": {
  "kernelspec": {
   "display_name": "Python 3",
   "language": "python",
   "name": "python3"
  },
  "language_info": {
   "codemirror_mode": {
    "name": "ipython",
    "version": 3
   },
   "file_extension": ".py",
   "mimetype": "text/x-python",
   "name": "python",
   "nbconvert_exporter": "python",
   "pygments_lexer": "ipython3",
   "version": "3.7.0"
  }
 },
 "nbformat": 4,
 "nbformat_minor": 4
}